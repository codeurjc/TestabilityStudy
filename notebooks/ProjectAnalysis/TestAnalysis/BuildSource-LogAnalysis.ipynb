{
 "cells": [
  {
   "cell_type": "code",
   "execution_count": 1,
   "metadata": {},
   "outputs": [],
   "source": [
    "import sys\n",
    "# To import python scripts from other folders\n",
    "sys.path.append('../')\n",
    "import matplotlib.pyplot as plt\n",
    "import json\n",
    "from ProjectTestAnalysis import ProjectTestAnalysis\n",
    "import os\n",
    "from os import listdir\n",
    "from os.path import isfile, join\n",
    "import pandas as pd\n",
    "import re\n",
    "import concurrent\n",
    "from statistics import median, mean\n",
    "import numpy as np\n",
    "root=\"/home/jovyan/work\"\n",
    "results_path=root+\"/results/\"\n",
    "procesed_results_path=root+\"/notebooks/ProjectAnalysis/TestAnalysis/results/\""
   ]
  },
  {
   "cell_type": "code",
   "execution_count": 2,
   "metadata": {},
   "outputs": [],
   "source": [
    "def getProjects(dataset):\n",
    "    path = root+\"/configFiles/%sProjects/\"%dataset\n",
    "    projects = []\n",
    "    for configFile in os.listdir(path):\n",
    "        with open(path+configFile) as f:\n",
    "            project_info = json.load(f)\n",
    "            if os.path.isdir(procesed_results_path+project_info[\"project\"]):\n",
    "                projects.append((dataset, project_info[\"project\"]))\n",
    "    return projects"
   ]
  },
  {
   "cell_type": "code",
   "execution_count": 3,
   "metadata": {},
   "outputs": [],
   "source": [
    "# Get Projects names\n",
    "github = getProjects(\"GitHub\")\n",
    "apache = getProjects(\"Apache\")\n",
    "many4j = getProjects(\"ManySStub4J\")\n",
    "all_datasets = github + apache + many4j"
   ]
  },
  {
   "cell_type": "code",
   "execution_count": 4,
   "metadata": {},
   "outputs": [],
   "source": [
    "all_projects_src_errors = []\n",
    "all_projects_test_errors = []\n",
    "\n",
    "total = 0\n",
    "\n",
    "for dataset, project in all_datasets:\n",
    "    \n",
    "    build_test_errors_path = procesed_results_path+project+\"/build-test-errors.json\"\n",
    "    \n",
    "    \n",
    "    if os.path.isfile(build_test_errors_path):\n",
    "        \n",
    "        pa = ProjectTestAnalysis(project,  2, root=root)\n",
    "        report_df = pa.getReport()\n",
    "        \n",
    "        with open(build_test_errors_path) as f:\n",
    "            errors = json.load(f)\n",
    "            \n",
    "        for _, commit in report_df.iterrows():\n",
    "            c_hash = commit['commit']\n",
    "            c_errors = errors[c_hash]\n",
    "            \n",
    "            if commit['build'] == 'SUCCESS':\n",
    "                if commit['test_build'] == 'SUCCESS':\n",
    "                    pass # DO NOTHING - TEST COULD BE EXECUTED\n",
    "                else:\n",
    "                    test_build_main_cause = c_errors['test_build'][\"main_cause\"]\n",
    "                    all_projects_test_errors.append(test_build_main_cause)\n",
    "            else:\n",
    "                src_build_main_cause = c_errors['src_build'][\"main_cause\"]\n",
    "                all_projects_src_errors.append(src_build_main_cause)"
   ]
  },
  {
   "cell_type": "code",
   "execution_count": 5,
   "metadata": {},
   "outputs": [
    {
     "data": {
      "text/plain": [
       "Cause\n",
       "Compilation         5565\n",
       "NO BUILD SYSTEM    42585\n",
       "Other              39395\n",
       "Parsing                1\n",
       "Resolution         31057\n",
       "dtype: int64"
      ]
     },
     "execution_count": 5,
     "metadata": {},
     "output_type": "execute_result"
    }
   ],
   "source": [
    "src_errors_df = pd.DataFrame(all_projects_src_errors, columns =['Cause'])\n",
    "src_errors_df.groupby(['Cause']).size()"
   ]
  },
  {
   "cell_type": "code",
   "execution_count": 6,
   "metadata": {},
   "outputs": [
    {
     "data": {
      "text/plain": [
       "Cause\n",
       "Other         2643\n",
       "Resolution     202\n",
       "dtype: int64"
      ]
     },
     "execution_count": 6,
     "metadata": {},
     "output_type": "execute_result"
    }
   ],
   "source": [
    "test_errors_df = pd.DataFrame(all_projects_test_errors, columns =['Cause'])\n",
    "test_errors_df.groupby(['Cause']).size()"
   ]
  }
 ],
 "metadata": {
  "kernelspec": {
   "display_name": "Python 3 (ipykernel)",
   "language": "python",
   "name": "python3"
  },
  "language_info": {
   "codemirror_mode": {
    "name": "ipython",
    "version": 3
   },
   "file_extension": ".py",
   "mimetype": "text/x-python",
   "name": "python",
   "nbconvert_exporter": "python",
   "pygments_lexer": "ipython3",
   "version": "3.11.6"
  }
 },
 "nbformat": 4,
 "nbformat_minor": 4
}
