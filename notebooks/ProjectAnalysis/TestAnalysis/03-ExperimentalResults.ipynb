{
 "cells": [
  {
   "cell_type": "code",
   "execution_count": 1,
   "metadata": {},
   "outputs": [],
   "source": [
    "import sys\n",
    "import pandas as pd\n",
    "import re\n",
    "import numpy as np\n",
    "import matplotlib.pyplot as plt\n",
    "import math\n",
    "from scipy import stats\n",
    "root=\"/home/jovyan/work\"\n",
    "results_path=root+\"/results/\"\n",
    "procesed_results_path=root+\"/notebooks/ProjectAnalysis/TestAnalysis/results/\""
   ]
  },
  {
   "cell_type": "markdown",
   "metadata": {},
   "source": [
    "# ExperimentalResults\n"
   ]
  },
  {
   "cell_type": "markdown",
   "metadata": {},
   "source": [
    "## Load data"
   ]
  },
  {
   "cell_type": "code",
   "execution_count": 2,
   "metadata": {},
   "outputs": [],
   "source": [
    "many4j_projects = pd.read_csv(results_path+'Many4JResults.csv') "
   ]
  },
  {
   "cell_type": "markdown",
   "metadata": {},
   "source": [
    "## Change days to years"
   ]
  },
  {
   "cell_type": "code",
   "execution_count": 3,
   "metadata": {},
   "outputs": [],
   "source": [
    "many4j_projects['Age'] = many4j_projects['Age'].map(lambda days: days/365.) "
   ]
  },
  {
   "cell_type": "markdown",
   "metadata": {},
   "source": [
    "## 1.1 Absolute results for All Projects"
   ]
  },
  {
   "cell_type": "code",
   "execution_count": 4,
   "metadata": {},
   "outputs": [],
   "source": [
    "def describeAbsoluteResults(dataset, name, data):\n",
    "    return [\n",
    "        dataset,\n",
    "        len(data.index),\n",
    "        data['Age'].sum(),\n",
    "        data['LoC'].sum(),\n",
    "        data['Total Commits'].sum(),\n",
    "        data['Source buildable commits'].sum(),\n",
    "        data['Test buildable commits'].sum(),\n",
    "        data['Fully Testable commits'].sum(),\n",
    "    ]    "
   ]
  },
  {
   "cell_type": "markdown",
   "metadata": {},
   "source": [
    "## Absolute results"
   ]
  },
  {
   "cell_type": "code",
   "execution_count": 5,
   "metadata": {},
   "outputs": [
    {
     "data": {
      "text/html": [
       "<div>\n",
       "<style scoped>\n",
       "    .dataframe tbody tr th:only-of-type {\n",
       "        vertical-align: middle;\n",
       "    }\n",
       "\n",
       "    .dataframe tbody tr th {\n",
       "        vertical-align: top;\n",
       "    }\n",
       "\n",
       "    .dataframe thead th {\n",
       "        text-align: right;\n",
       "    }\n",
       "</style>\n",
       "<table border=\"1\" class=\"dataframe\">\n",
       "  <thead>\n",
       "    <tr style=\"text-align: right;\">\n",
       "      <th>Dataset</th>\n",
       "      <th>Many4J</th>\n",
       "    </tr>\n",
       "  </thead>\n",
       "  <tbody>\n",
       "    <tr>\n",
       "      <th># projects</th>\n",
       "      <td>66.00</td>\n",
       "    </tr>\n",
       "    <tr>\n",
       "      <th>Age</th>\n",
       "      <td>634.66</td>\n",
       "    </tr>\n",
       "    <tr>\n",
       "      <th>LoC</th>\n",
       "      <td>11143058.00</td>\n",
       "    </tr>\n",
       "    <tr>\n",
       "      <th># commits</th>\n",
       "      <td>407579.00</td>\n",
       "    </tr>\n",
       "    <tr>\n",
       "      <th>Source buildable commits</th>\n",
       "      <td>103097.00</td>\n",
       "    </tr>\n",
       "    <tr>\n",
       "      <th>Test buildable commit</th>\n",
       "      <td>93925.00</td>\n",
       "    </tr>\n",
       "    <tr>\n",
       "      <th>Fully Testable commits</th>\n",
       "      <td>40540.00</td>\n",
       "    </tr>\n",
       "  </tbody>\n",
       "</table>\n",
       "</div>"
      ],
      "text/plain": [
       "Dataset                        Many4J\n",
       "# projects                      66.00\n",
       "Age                            634.66\n",
       "LoC                       11143058.00\n",
       "# commits                   407579.00\n",
       "Source buildable commits    103097.00\n",
       "Test buildable commit        93925.00\n",
       "Fully Testable commits       40540.00"
      ]
     },
     "execution_count": 5,
     "metadata": {},
     "output_type": "execute_result"
    }
   ],
   "source": [
    "many4j_absolute = describeAbsoluteResults(\"Many4J\", \"All\", many4j_projects)\n",
    "\n",
    "all_absolute_df = pd.DataFrame([many4j_absolute], columns = [\n",
    "        \"Dataset\",\n",
    "        \"# projects\",\n",
    "        \"Age\",\n",
    "        \"LoC\",\n",
    "        \"# commits\",\n",
    "        \"Source buildable commits\",\n",
    "        \"Test buildable commit\",\n",
    "        \"Fully Testable commits\"\n",
    "]).round(decimals=2).set_index('Dataset')\n",
    "all_absolute_df.T#.astype(int)"
   ]
  },
  {
   "cell_type": "markdown",
   "metadata": {},
   "source": [
    "## 1.2 Mean and median results for All Projects"
   ]
  },
  {
   "cell_type": "code",
   "execution_count": 6,
   "metadata": {},
   "outputs": [],
   "source": [
    "alpha = 1e-3\n",
    "def isNormalDistribution(name, data):\n",
    "    k2, p = stats.normaltest(list(data.values))\n",
    "    \n",
    "    if p < alpha: \n",
    "        print(\"{:s} is NOT a normal distribution: p = {:g}\".format(name, p))\n",
    "    else: \n",
    "        print(\"{:s} is a normal distribution: p = {:g}\".format(name, p))"
   ]
  },
  {
   "cell_type": "code",
   "execution_count": 7,
   "metadata": {},
   "outputs": [],
   "source": [
    "def checkDistribution(dataset, data):\n",
    "    isNormalDistribution(dataset+\"-Age\",data['Age'])\n",
    "    isNormalDistribution(dataset+\"-LoC\",data['LoC'])\n",
    "    isNormalDistribution(dataset+\"-Total Commits\",data['Total Commits'])\n",
    "    isNormalDistribution(dataset+\"-Source buildable\",data['Source buildable commits'])\n",
    "    isNormalDistribution(dataset+\"-Test buildable\",data['Test buildable commits'])\n",
    "    isNormalDistribution(dataset+\"-Fully Testable\",data['Fully Testable commits'])"
   ]
  },
  {
   "cell_type": "code",
   "execution_count": 8,
   "metadata": {},
   "outputs": [],
   "source": [
    "def describeResultsWithMeans(dataset, name, data):\n",
    "    return [\n",
    "        'Mean',\n",
    "        dataset,\n",
    "        data['Age'].mean(),\n",
    "        data['LoC'].mean(),\n",
    "        data['Total Commits'].mean(),\n",
    "        data['Source buildable commits'].mean(),\n",
    "        data['Test buildable commits'].mean(),\n",
    "        data['Fully Testable commits'].mean(),\n",
    "    ]"
   ]
  },
  {
   "cell_type": "code",
   "execution_count": 9,
   "metadata": {},
   "outputs": [],
   "source": [
    "def describeResultsWithMedian(dataset, name, data):\n",
    "    return [\n",
    "        'Median',\n",
    "        dataset,\n",
    "        data['Age'].median(),\n",
    "        data['LoC'].median(),\n",
    "        data['Total Commits'].median(),\n",
    "        data['Source buildable commits'].median(),\n",
    "        data['Test buildable commits'].median(),\n",
    "        data['Fully Testable commits'].median(),\n",
    "    ]"
   ]
  },
  {
   "cell_type": "code",
   "execution_count": 10,
   "metadata": {},
   "outputs": [],
   "source": [
    "def describeResultsWithStd(dataset, name, data):\n",
    "    return [\n",
    "        'Std',\n",
    "        dataset,\n",
    "        data['Age'].std(),\n",
    "        data['LoC'].std(),\n",
    "        data['Total Commits'].std(),\n",
    "        data['Source buildable commits'].std(),\n",
    "        data['Test buildable commits'].std(),\n",
    "        data['Fully Testable commits'].std(),\n",
    "    ]"
   ]
  },
  {
   "cell_type": "code",
   "execution_count": 11,
   "metadata": {},
   "outputs": [
    {
     "name": "stdout",
     "output_type": "stream",
     "text": [
      "Many4J-Age is a normal distribution: p = 0.00108862\n",
      "Many4J-LoC is a normal distribution: p = nan\n",
      "Many4J-Total Commits is NOT a normal distribution: p = 2.32506e-15\n",
      "Many4J-Source buildable is NOT a normal distribution: p = 5.10712e-13\n",
      "Many4J-Test buildable is NOT a normal distribution: p = 3.84921e-13\n",
      "Many4J-Fully Testable is NOT a normal distribution: p = 1.11649e-24\n"
     ]
    }
   ],
   "source": [
    "checkDistribution(\"Many4J\",many4j_projects)"
   ]
  },
  {
   "cell_type": "markdown",
   "metadata": {},
   "source": [
    "## Table 7: Mean and Median values for the projects’ metrics."
   ]
  },
  {
   "cell_type": "code",
   "execution_count": 12,
   "metadata": {},
   "outputs": [
    {
     "data": {
      "text/html": [
       "<div>\n",
       "<style scoped>\n",
       "    .dataframe tbody tr th:only-of-type {\n",
       "        vertical-align: middle;\n",
       "    }\n",
       "\n",
       "    .dataframe tbody tr th {\n",
       "        vertical-align: top;\n",
       "    }\n",
       "\n",
       "    .dataframe thead tr th {\n",
       "        text-align: left;\n",
       "    }\n",
       "</style>\n",
       "<table border=\"1\" class=\"dataframe\">\n",
       "  <thead>\n",
       "    <tr>\n",
       "      <th>Dataset</th>\n",
       "      <th colspan=\"2\" halign=\"left\">Many4J</th>\n",
       "    </tr>\n",
       "    <tr>\n",
       "      <th></th>\n",
       "      <th>Mean</th>\n",
       "      <th>Median</th>\n",
       "    </tr>\n",
       "  </thead>\n",
       "  <tbody>\n",
       "    <tr>\n",
       "      <th>Age</th>\n",
       "      <td>9.62</td>\n",
       "      <td>9.69</td>\n",
       "    </tr>\n",
       "    <tr>\n",
       "      <th>LoC</th>\n",
       "      <td>174110.28</td>\n",
       "      <td>26973.50</td>\n",
       "    </tr>\n",
       "    <tr>\n",
       "      <th>Total commits</th>\n",
       "      <td>6175.44</td>\n",
       "      <td>2831.00</td>\n",
       "    </tr>\n",
       "    <tr>\n",
       "      <th>Source buildable commits</th>\n",
       "      <td>1562.08</td>\n",
       "      <td>1020.00</td>\n",
       "    </tr>\n",
       "    <tr>\n",
       "      <th>Test buildable commits</th>\n",
       "      <td>1423.11</td>\n",
       "      <td>692.50</td>\n",
       "    </tr>\n",
       "    <tr>\n",
       "      <th>Fully Testable commits</th>\n",
       "      <td>614.24</td>\n",
       "      <td>218.00</td>\n",
       "    </tr>\n",
       "  </tbody>\n",
       "</table>\n",
       "</div>"
      ],
      "text/plain": [
       "Dataset                      Many4J          \n",
       "                               Mean    Median\n",
       "Age                            9.62      9.69\n",
       "LoC                       174110.28  26973.50\n",
       "Total commits               6175.44   2831.00\n",
       "Source buildable commits    1562.08   1020.00\n",
       "Test buildable commits      1423.11    692.50\n",
       "Fully Testable commits       614.24    218.00"
      ]
     },
     "execution_count": 12,
     "metadata": {},
     "output_type": "execute_result"
    }
   ],
   "source": [
    "all_means_df = pd.DataFrame(\n",
    "    [ \n",
    "        describeResultsWithMeans(\"Many4J\", \"All\", many4j_projects),\n",
    "        describeResultsWithMedian(\"Many4J\", \"All\", many4j_projects),\n",
    "    ]\n",
    ", columns = [\n",
    "        \"\",\n",
    "        \"Dataset\",\n",
    "        \"Age\",\n",
    "        \"LoC\",\n",
    "        \"Total commits\",\n",
    "        \"Source buildable commits\",\n",
    "        \"Test buildable commits\",\n",
    "        \"Fully Testable commits\",\n",
    "\n",
    "]).set_index(['Dataset', '']).round(decimals=2)#.astype(int)\n",
    "all_means_df.T"
   ]
  },
  {
   "cell_type": "markdown",
   "metadata": {},
   "source": [
    "## 1.3 Relative results for All Projects"
   ]
  },
  {
   "cell_type": "code",
   "execution_count": 13,
   "metadata": {},
   "outputs": [],
   "source": [
    "def describeRelativeResults(dataset, name, data):\n",
    "    return [\n",
    "        'Mean',\n",
    "        dataset,\n",
    "        100*data['Source buildability'].mean(),\n",
    "        100*data['Test buildability_A'].mean(),\n",
    "        100*data['Test buildability_S'].mean(),\n",
    "        100*data['TestabilityRate_A'].mean(),\n",
    "        100*data['TestabilityRate_T'].mean(),\n",
    "        100*data['FullyTestability_A'].mean(),\n",
    "        100*data['FullyTestability_T'].mean(),\n",
    "    ]"
   ]
  },
  {
   "cell_type": "code",
   "execution_count": 14,
   "metadata": {},
   "outputs": [],
   "source": [
    "def describeRelativeResultsStd(dataset, name, data):\n",
    "    return [\n",
    "        'Std',\n",
    "        dataset,\n",
    "        100*data['Source buildability'].std(),\n",
    "        100*data['Test buildability_A'].std(),\n",
    "        100*data['TestabilityRate_A'].std(),\n",
    "        100*data['TestabilityRate_T'].std(),\n",
    "        100*data['FullyTestability_A'].std(),\n",
    "        100*data['FullyTestability_T'].std(),\n",
    "    ]"
   ]
  },
  {
   "cell_type": "code",
   "execution_count": 15,
   "metadata": {},
   "outputs": [],
   "source": [
    "def describeRelativeResultsWithMedian(dataset, name, data):\n",
    "     return [\n",
    "        'Median',\n",
    "        dataset,\n",
    "        100*data['Source buildability'].median(),\n",
    "        100*data['Test buildability_A'].median(),\n",
    "         100*data['Test buildability_S'].median(),\n",
    "        100*data['TestabilityRate_A'].median(),\n",
    "        100*data['TestabilityRate_T'].median(),\n",
    "        100*data['FullyTestability_A'].median(),\n",
    "        100*data['FullyTestability_T'].median(),\n",
    "    ]"
   ]
  },
  {
   "cell_type": "code",
   "execution_count": 16,
   "metadata": {},
   "outputs": [],
   "source": [
    "def checkDistributionRelative(dataset, data):\n",
    "    isNormalDistribution(dataset+\"-SourceBuildability\",data['Source buildability'])\n",
    "    isNormalDistribution(dataset+\"-TestBuildability\",data['Test buildability_A'])\n",
    "    isNormalDistribution(dataset+\"-Total Commits\",data['Total Commits'])\n",
    "    isNormalDistribution(dataset+\"-TestabilityRate_A\",data['TestabilityRate_A'])\n",
    "    isNormalDistribution(dataset+\"-TestabilityRate_T\",data['TestabilityRate_T'])\n",
    "    isNormalDistribution(dataset+\"-FullyTestability_A\",data['FullyTestability_A'])\n",
    "    isNormalDistribution(dataset+\"-FullyTestability_T\",data['FullyTestability_A'])"
   ]
  },
  {
   "cell_type": "code",
   "execution_count": 17,
   "metadata": {},
   "outputs": [
    {
     "name": "stdout",
     "output_type": "stream",
     "text": [
      "Many4J-SourceBuildability is NOT a normal distribution: p = 0.000439414\n",
      "Many4J-TestBuildability is a normal distribution: p = 0.0115549\n",
      "Many4J-Total Commits is NOT a normal distribution: p = 2.32506e-15\n",
      "Many4J-TestabilityRate_A is a normal distribution: p = 0.0218404\n",
      "Many4J-TestabilityRate_T is NOT a normal distribution: p = 1.48062e-18\n",
      "Many4J-FullyTestability_A is a normal distribution: p = 0.00180761\n",
      "Many4J-FullyTestability_T is a normal distribution: p = 0.00180761\n"
     ]
    }
   ],
   "source": [
    "checkDistributionRelative(\"Many4J\",many4j_projects)"
   ]
  },
  {
   "cell_type": "markdown",
   "metadata": {},
   "source": [
    "## Table 8"
   ]
  },
  {
   "cell_type": "code",
   "execution_count": 18,
   "metadata": {},
   "outputs": [
    {
     "data": {
      "text/html": [
       "<div>\n",
       "<style scoped>\n",
       "    .dataframe tbody tr th:only-of-type {\n",
       "        vertical-align: middle;\n",
       "    }\n",
       "\n",
       "    .dataframe tbody tr th {\n",
       "        vertical-align: top;\n",
       "    }\n",
       "\n",
       "    .dataframe thead tr th {\n",
       "        text-align: left;\n",
       "    }\n",
       "</style>\n",
       "<table border=\"1\" class=\"dataframe\">\n",
       "  <thead>\n",
       "    <tr>\n",
       "      <th>Dataset</th>\n",
       "      <th colspan=\"2\" halign=\"left\">Many4J</th>\n",
       "    </tr>\n",
       "    <tr>\n",
       "      <th></th>\n",
       "      <th>Mean</th>\n",
       "      <th>Median</th>\n",
       "    </tr>\n",
       "  </thead>\n",
       "  <tbody>\n",
       "    <tr>\n",
       "      <th>Source buildability</th>\n",
       "      <td>47.29</td>\n",
       "      <td>47.12</td>\n",
       "    </tr>\n",
       "    <tr>\n",
       "      <th>Test buildability_A</th>\n",
       "      <td>41.73</td>\n",
       "      <td>39.22</td>\n",
       "    </tr>\n",
       "    <tr>\n",
       "      <th>Test buildability_S</th>\n",
       "      <td>88.26</td>\n",
       "      <td>97.35</td>\n",
       "    </tr>\n",
       "    <tr>\n",
       "      <th>TestabilityRate_A</th>\n",
       "      <td>38.63</td>\n",
       "      <td>34.88</td>\n",
       "    </tr>\n",
       "    <tr>\n",
       "      <th>TestabilityRate_T</th>\n",
       "      <td>94.15</td>\n",
       "      <td>99.56</td>\n",
       "    </tr>\n",
       "    <tr>\n",
       "      <th>FullyTestability_A</th>\n",
       "      <td>22.12</td>\n",
       "      <td>14.88</td>\n",
       "    </tr>\n",
       "    <tr>\n",
       "      <th>FullyTestability_T</th>\n",
       "      <td>52.53</td>\n",
       "      <td>59.32</td>\n",
       "    </tr>\n",
       "  </tbody>\n",
       "</table>\n",
       "</div>"
      ],
      "text/plain": [
       "Dataset             Many4J       \n",
       "                      Mean Median\n",
       "Source buildability  47.29  47.12\n",
       "Test buildability_A  41.73  39.22\n",
       "Test buildability_S  88.26  97.35\n",
       "TestabilityRate_A    38.63  34.88\n",
       "TestabilityRate_T    94.15  99.56\n",
       "FullyTestability_A   22.12  14.88\n",
       "FullyTestability_T   52.53  59.32"
      ]
     },
     "execution_count": 18,
     "metadata": {},
     "output_type": "execute_result"
    }
   ],
   "source": [
    "all_relative_df = pd.DataFrame(\n",
    "    [ \n",
    "        describeRelativeResults(\"Many4J\", \"All\", many4j_projects),\n",
    "        describeRelativeResultsWithMedian(\"Many4J\", \"All\", many4j_projects),\n",
    "    ]\n",
    ", columns = [\n",
    "        \"\",\n",
    "        \"Dataset\",\n",
    "        \"Source buildability\",\n",
    "        \"Test buildability_A\",\n",
    "        \"Test buildability_S\",\n",
    "        \"TestabilityRate_A\",\n",
    "        \"TestabilityRate_T\",\n",
    "        \"FullyTestability_A\",\n",
    "        \"FullyTestability_T\",\n",
    "]).round(decimals=2).set_index(['Dataset', ''])\n",
    "all_relative_df.T"
   ]
  },
  {
   "cell_type": "markdown",
   "metadata": {},
   "source": [
    "## 1.4 Relative results per dataset"
   ]
  },
  {
   "cell_type": "code",
   "execution_count": 19,
   "metadata": {},
   "outputs": [],
   "source": [
    "def viewDistributionOfResults(dataset):\n",
    "    dataset_relative_df = dataset[\n",
    "        ['Source buildability', 'Test buildability_A', \n",
    "         'FullyTestability_A', 'FullyTestability_T', \n",
    "         'TestabilityRate_A', 'TestabilityRate_T']\n",
    "    ]\n",
    "    return dataset_relative_df.describe().T"
   ]
  },
  {
   "cell_type": "markdown",
   "metadata": {},
   "source": [
    "### Many4J"
   ]
  },
  {
   "cell_type": "code",
   "execution_count": 20,
   "metadata": {},
   "outputs": [
    {
     "data": {
      "text/html": [
       "<div>\n",
       "<style scoped>\n",
       "    .dataframe tbody tr th:only-of-type {\n",
       "        vertical-align: middle;\n",
       "    }\n",
       "\n",
       "    .dataframe tbody tr th {\n",
       "        vertical-align: top;\n",
       "    }\n",
       "\n",
       "    .dataframe thead th {\n",
       "        text-align: right;\n",
       "    }\n",
       "</style>\n",
       "<table border=\"1\" class=\"dataframe\">\n",
       "  <thead>\n",
       "    <tr style=\"text-align: right;\">\n",
       "      <th></th>\n",
       "      <th>count</th>\n",
       "      <th>mean</th>\n",
       "      <th>std</th>\n",
       "      <th>min</th>\n",
       "      <th>25%</th>\n",
       "      <th>50%</th>\n",
       "      <th>75%</th>\n",
       "      <th>max</th>\n",
       "    </tr>\n",
       "  </thead>\n",
       "  <tbody>\n",
       "    <tr>\n",
       "      <th>Source buildability</th>\n",
       "      <td>66.0</td>\n",
       "      <td>0.472902</td>\n",
       "      <td>0.310443</td>\n",
       "      <td>0.000394</td>\n",
       "      <td>0.216775</td>\n",
       "      <td>0.471184</td>\n",
       "      <td>0.750685</td>\n",
       "      <td>1.000000</td>\n",
       "    </tr>\n",
       "    <tr>\n",
       "      <th>Test buildability_A</th>\n",
       "      <td>66.0</td>\n",
       "      <td>0.417315</td>\n",
       "      <td>0.298015</td>\n",
       "      <td>0.000375</td>\n",
       "      <td>0.181125</td>\n",
       "      <td>0.392178</td>\n",
       "      <td>0.596928</td>\n",
       "      <td>0.977941</td>\n",
       "    </tr>\n",
       "    <tr>\n",
       "      <th>FullyTestability_A</th>\n",
       "      <td>66.0</td>\n",
       "      <td>0.221240</td>\n",
       "      <td>0.244568</td>\n",
       "      <td>0.000000</td>\n",
       "      <td>0.009445</td>\n",
       "      <td>0.148836</td>\n",
       "      <td>0.366581</td>\n",
       "      <td>0.935506</td>\n",
       "    </tr>\n",
       "    <tr>\n",
       "      <th>FullyTestability_T</th>\n",
       "      <td>66.0</td>\n",
       "      <td>0.525261</td>\n",
       "      <td>0.390930</td>\n",
       "      <td>0.000000</td>\n",
       "      <td>0.128798</td>\n",
       "      <td>0.593184</td>\n",
       "      <td>0.933741</td>\n",
       "      <td>1.000000</td>\n",
       "    </tr>\n",
       "    <tr>\n",
       "      <th>TestabilityRate_A</th>\n",
       "      <td>66.0</td>\n",
       "      <td>0.386317</td>\n",
       "      <td>0.290493</td>\n",
       "      <td>0.000375</td>\n",
       "      <td>0.159240</td>\n",
       "      <td>0.348844</td>\n",
       "      <td>0.547665</td>\n",
       "      <td>0.972881</td>\n",
       "    </tr>\n",
       "    <tr>\n",
       "      <th>TestabilityRate_T</th>\n",
       "      <td>66.0</td>\n",
       "      <td>0.941480</td>\n",
       "      <td>0.168191</td>\n",
       "      <td>0.075774</td>\n",
       "      <td>0.976032</td>\n",
       "      <td>0.995584</td>\n",
       "      <td>0.999357</td>\n",
       "      <td>1.000000</td>\n",
       "    </tr>\n",
       "  </tbody>\n",
       "</table>\n",
       "</div>"
      ],
      "text/plain": [
       "                     count      mean       std       min       25%       50%  \\\n",
       "Source buildability   66.0  0.472902  0.310443  0.000394  0.216775  0.471184   \n",
       "Test buildability_A   66.0  0.417315  0.298015  0.000375  0.181125  0.392178   \n",
       "FullyTestability_A    66.0  0.221240  0.244568  0.000000  0.009445  0.148836   \n",
       "FullyTestability_T    66.0  0.525261  0.390930  0.000000  0.128798  0.593184   \n",
       "TestabilityRate_A     66.0  0.386317  0.290493  0.000375  0.159240  0.348844   \n",
       "TestabilityRate_T     66.0  0.941480  0.168191  0.075774  0.976032  0.995584   \n",
       "\n",
       "                          75%       max  \n",
       "Source buildability  0.750685  1.000000  \n",
       "Test buildability_A  0.596928  0.977941  \n",
       "FullyTestability_A   0.366581  0.935506  \n",
       "FullyTestability_T   0.933741  1.000000  \n",
       "TestabilityRate_A    0.547665  0.972881  \n",
       "TestabilityRate_T    0.999357  1.000000  "
      ]
     },
     "execution_count": 20,
     "metadata": {},
     "output_type": "execute_result"
    }
   ],
   "source": [
    "viewDistributionOfResults(many4j_projects)"
   ]
  },
  {
   "cell_type": "markdown",
   "metadata": {},
   "source": [
    "## 2. Plot of results"
   ]
  },
  {
   "cell_type": "code",
   "execution_count": 21,
   "metadata": {},
   "outputs": [],
   "source": [
    "def plotProjects(dataset, name, figsize=(6,3)):\n",
    "    \n",
    "    print(\"Max %d\"%dataset['Total Commits'].max())\n",
    "    print(\"Min %d\"%dataset['Total Commits'].min())\n",
    "    \n",
    "    df = dataset[\n",
    "        ['Project', 'Total Commits', 'Source buildable commits', 'Test buildable commits', 'Fully Testable commits', 'TestabilityRate_T']\n",
    "    ].set_index('Project').sort_values(by=['Total Commits'], ascending=False)\n",
    "    \n",
    "    fig, ax = plt.subplots(figsize=figsize)\n",
    "    bar_width = 0.9\n",
    "    index = np.arange(len(df.index))\n",
    "    #index = df.index\n",
    "    \n",
    "    ax.bar(index,df[\"Total Commits\"], bar_width, label=\"Total Commits\", zorder=1, color=\"tab:blue\")\n",
    "    ax.bar(index,df[\"Source buildable commits\"], bar_width, label=\"Source-compilable commits\", zorder=1, color=\"orange\")\n",
    "    ax.bar(index,df[\"Test buildable commits\"], bar_width, label=\"Test-compilable commits\", zorder=1,color=\"purple\")\n",
    "    #ax.bar(index,df[\"TestabilityRate_T\"]*df[\"Test buildable commits\"], bar_width, label=\"TestabilityRate_T\", zorder=1,color=\"green\")\n",
    "    ax.bar(index,df[\"Fully Testable commits\"], bar_width, label=\"Fully Testable commits\", zorder=1,color=\"limegreen\")\n",
    "    \n",
    "    ax.set_xlabel('Projects')\n",
    "    ax.set_ylabel('# commits')\n",
    "    ax.get_xaxis().set_ticks([])\n",
    "    \n",
    "    #ax.set_xticklabels(df.index, rotation=90, ha='right')\n",
    "    \n",
    "    plt.legend()\n",
    "    #plt.tight_layout()\n",
    "    plt.savefig(\"latex_figures/\"+name+\".pdf\")\n",
    "    plt.show()"
   ]
  },
  {
   "cell_type": "code",
   "execution_count": 22,
   "metadata": {},
   "outputs": [
    {
     "name": "stdout",
     "output_type": "stream",
     "text": [
      "Max 53286\n",
      "Min 5031\n"
     ]
    },
    {
     "data": {
      "image/png": "[encoded data removed]",
      "text/plain": [
       "<Figure size 432x216 with 1 Axes>"
      ]
     },
     "metadata": {
      "needs_background": "light"
     },
     "output_type": "display_data"
    }
   ],
   "source": [
    "plotProjects(many4j_projects.sort_values(by=['Total Commits'], ascending=False)[0:22], \"Many4j 1-22\")"
   ]
  },
  {
   "cell_type": "code",
   "execution_count": 23,
   "metadata": {},
   "outputs": [
    {
     "name": "stdout",
     "output_type": "stream",
     "text": [
      "Max 4861\n",
      "Min 1493\n"
     ]
    },
    {
     "data": {
      "image/png": "[encoded data removed]",
      "text/plain": [
       "<Figure size 432x216 with 1 Axes>"
      ]
     },
     "metadata": {
      "needs_background": "light"
     },
     "output_type": "display_data"
    }
   ],
   "source": [
    "plotProjects(many4j_projects.sort_values(by=['Total Commits'], ascending=False)[22:44], \"Many4j 23-44\")"
   ]
  },
  {
   "cell_type": "code",
   "execution_count": 24,
   "metadata": {},
   "outputs": [
    {
     "name": "stdout",
     "output_type": "stream",
     "text": [
      "Max 1442\n",
      "Min 76\n"
     ]
    },
    {
     "data": {
      "image/png": "[encoded data removed]",
      "text/plain": [
       "<Figure size 432x216 with 1 Axes>"
      ]
     },
     "metadata": {
      "needs_background": "light"
     },
     "output_type": "display_data"
    }
   ],
   "source": [
    "plotProjects(many4j_projects.sort_values(by=['Total Commits'], ascending=False)[44:], \"Many4j 45-66\")"
   ]
  },
  {
   "cell_type": "markdown",
   "metadata": {},
   "source": [
    "## 3. Overview of results"
   ]
  },
  {
   "cell_type": "code",
   "execution_count": 25,
   "metadata": {},
   "outputs": [
    {
     "data": {
      "image/png": "[encoded data removed]",
      "text/plain": [
       "<Figure size 720x288 with 4 Axes>"
      ]
     },
     "metadata": {
      "needs_background": "light"
     },
     "output_type": "display_data"
    }
   ],
   "source": [
    "def setChart(ax, dataset, metric, sorted_by, ylabel=False):\n",
    "    aux_df = dataset.sort_values(by=sorted_by, ascending=False).reset_index(drop=True)\n",
    "    ax.bar(aux_df.index, aux_df[metric])\n",
    "    ax.set_ylim(0,1)\n",
    "    \n",
    "    ax.get_xaxis().set_ticks([])\n",
    "    if not metric.endswith(\"A\"):\n",
    "        ax.get_yaxis().set_ticks([])\n",
    "\n",
    "    ax.set_title(metric)\n",
    "\n",
    "fig, (ax1, ax2) = plt.subplots(2, 2, figsize=(10,4))\n",
    "\n",
    "setChart(ax1[0], many4j_projects, \"TestabilityRate_A\", \"TestabilityRate_A\")\n",
    "setChart(ax1[1], many4j_projects, \"TestabilityRate_T\", \"TestabilityRate_T\")\n",
    "setChart(ax2[0], many4j_projects, \"FullyTestability_A\", \"TestabilityRate_A\")\n",
    "setChart(ax2[1], many4j_projects, \"FullyTestability_T\", \"TestabilityRate_T\")\n",
    "\n",
    "\n",
    "plt.savefig(\"latex_figures/Overview.pdf\")"
   ]
  }
 ],
 "metadata": {
  "interpreter": {
   "hash": "31f2aee4e71d21fbe5cf8b01ff0e069b9275f58929596ceb00d14d90e3e16cd6"
  },
  "kernelspec": {
   "display_name": "Python 3 (ipykernel)",
   "language": "python",
   "name": "python3"
  },
  "language_info": {
   "codemirror_mode": {
    "name": "ipython",
    "version": 3
   },
   "file_extension": ".py",
   "mimetype": "text/x-python",
   "name": "python",
   "nbconvert_exporter": "python",
   "pygments_lexer": "ipython3",
   "version": "3.9.5"
  }
 },
 "nbformat": 4,
 "nbformat_minor": 2
}
