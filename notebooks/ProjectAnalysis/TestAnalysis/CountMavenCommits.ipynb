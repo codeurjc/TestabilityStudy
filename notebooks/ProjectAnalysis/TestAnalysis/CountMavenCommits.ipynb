{
 "cells": [
  {
   "cell_type": "code",
   "execution_count": 1,
   "id": "41db3654-d296-435b-ae69-c190fb31e682",
   "metadata": {},
   "outputs": [],
   "source": [
    "import os\n",
    "import json\n",
    "import csv\n",
    "import pandas as pd\n",
    "import sys\n",
    "import concurrent\n",
    "\n",
    "sys.path.append('../../../py/')\n",
    "from GitManager import GitManager\n",
    "\n",
    "root=\"/home/jovyan/work\"\n",
    "procesed_results_path=root+\"/notebooks/ProjectAnalysis/TestAnalysis/results/\""
   ]
  },
  {
   "cell_type": "code",
   "execution_count": 2,
   "id": "ada0b40b-2e19-4004-a82e-e1d668f7ccc1",
   "metadata": {},
   "outputs": [],
   "source": [
    "ignored_android_projects = [\n",
    "     'ActionBarSherlock',\n",
    "     'roboguice',\n",
    "     'android-Ultra-Pull-To-Refresh',\n",
    "     'ViewPagerIndicator',\n",
    "     'SlidingMenu',\n",
    "     'NineOldAndroids',\n",
    "     'ListViewAnimations',\n",
    "     'Android-PullToRefresh',\n",
    "     'ActiveAndroid',\n",
    "     'android-common',\n",
    "     'drag-sort-listview',\n",
    "]\n",
    "ignored_non_runnable_projects = [\n",
    "    \"guice\",\n",
    "    \"Essentials\",\n",
    "    \"neo4j\",\n",
    "    \"spring-cloud-microservice-example\",\n",
    "    \"canal\",\n",
    "    \"hive\",\n",
    "    \"spring-boot\",\n",
    "    \"YCSB\",\n",
    "    \"wildfly\",\n",
    "    \"gephi\",\n",
    "    \"deeplearning4j\",\n",
    "    \"DataX\",\n",
    "    \"netty\",\n",
    "    \"hbase\",\n",
    "    \"zheng\",\n",
    "    \"openhab\",\n",
    "    \"jstorm\",\n",
    "    \"clojure\",\n",
    "    \"learning-spark\",\n",
    "    \"Mycat-Server\" \n",
    "]\n",
    "ignored_projects = ignored_android_projects + ignored_non_runnable_projects"
   ]
  },
  {
   "cell_type": "code",
   "execution_count": 21,
   "id": "f23684af-7525-4f25-8dac-8960fdce3372",
   "metadata": {},
   "outputs": [],
   "source": [
    "path = root+\"/configFiles/ManySStub4JProjects/\"\n",
    "projects = {}\n",
    "for configFile in os.listdir(path):\n",
    "    with open(path+configFile) as f:\n",
    "        project_info = json.load(f)\n",
    "        project_name = project_info[\"project\"]\n",
    "        if os.path.isdir(procesed_results_path+project_name) and project_name not in ignored_projects:\n",
    "            projects[project_name] = project_info"
   ]
  },
  {
   "cell_type": "code",
   "execution_count": 4,
   "id": "ede36de7-e1cd-45e6-8f73-0898af9b0c24",
   "metadata": {},
   "outputs": [
    {
     "data": {
      "text/plain": [
       "dict_keys(['flink', 'elastic-job', 'alluxio', 'dex2jar', 'jedis', 'android-volley', 'storm', 'dropwizard', 'titan', 'jsonschema2pojo', 'graylog2-server', 'spark', 'spring-security-oauth', 'auto', 'closure-compiler', 'dagger', 'java-design-patterns', 'crawler4j', 'apache-druid', 'otto', 'springside4', 'jfinal', 'hadoop', 'okhttp', 'twitter4j', 'fastjson', 'DiskLruCache', 'nanohttpd', 'atmosphere', 'presto', 'retrofit', 'guava', 'jsoup', 'disconf', 'antlr4', 'mybatis-3', 'javaee7-samples', 'pinpoint', 'FizzBuzzEnterpriseEdition', 'vert.x', 'swagger-codegen', 'HikariCP', 'checkstyle', 'Bukkit', 'cucumber-jvm', 'spring-petclinic', 'druid', 'swagger-core', 'metrics', 'dubbo', 'aws-sdk-java', 'Activiti', 'spring-mvc-showcase', 'zxing', 'HanLP', 'libgdx', 'ansj_seg', 'okio', 'javapoet', 'CoreNLP', 'camel', 'openmrs-core', 'scribejava', 'webmagic', 'async-http-client', 'junit'])"
      ]
     },
     "execution_count": 4,
     "metadata": {},
     "output_type": "execute_result"
    }
   ],
   "source": [
    "projects.keys()"
   ]
  },
  {
   "cell_type": "code",
   "execution_count": 16,
   "id": "5a89ea75-19ac-41f9-bc0c-0720b0491688",
   "metadata": {},
   "outputs": [],
   "source": [
    "def getCommitsWithMaven(project):\n",
    "    project_path = root+\"/projects/\"+project['project']\n",
    "    gm = GitManager(project_path, project['last_commit'])\n",
    "    commits = gm.getAllCommits()\n",
    "    n_commits = len(commits)\n",
    "    n_commits_with_pom = 0\n",
    "    if os.path.isfile(procesed_results_path+project['project']+\"/build-system.csv\"):\n",
    "        return project['project']\n",
    "    with open(procesed_results_path+project['project']+\"/build-system.csv\", 'w') as f:\n",
    "        writer = csv.writer(f)\n",
    "        writer.writerow([\"commit_hash\", \"has_pom\"])\n",
    "        for c in commits:\n",
    "            commit_hash = c.split(\"|=|\")[0][1:]\n",
    "            gm.change_commit(commit_hash)\n",
    "            has_pom = os.path.isfile(project_path+\"/pom.xml\")\n",
    "            writer.writerow((commit_hash, has_pom))\n",
    "    return project['project']"
   ]
  },
  {
   "cell_type": "code",
   "execution_count": 20,
   "id": "84cb8be7-8de7-4dd8-b607-07a0811d0edc",
   "metadata": {},
   "outputs": [
    {
     "name": "stdout",
     "output_type": "stream",
     "text": [
      "Finish flink\n",
      "Finish elastic-job\n",
      "Finish alluxio\n",
      "Finish dex2jar\n",
      "Finish jedis\n",
      "Finish android-volley\n",
      "Finish storm\n",
      "Finish dropwizard\n",
      "Finish titan\n",
      "Finish jsonschema2pojo\n",
      "Finish graylog2-server\n",
      "Finish spark\n",
      "Finish spring-security-oauth\n",
      "Finish auto\n",
      "Finish closure-compiler\n",
      "Finish dagger\n",
      "Finish java-design-patterns\n",
      "Finish crawler4j\n",
      "Finish apache-druid\n",
      "Finish otto\n",
      "Finish springside4\n",
      "Finish jfinal\n",
      "Finish hadoop\n",
      "Finish okhttp\n",
      "Finish twitter4j\n",
      "Finish fastjson\n",
      "Finish DiskLruCache\n",
      "Finish nanohttpd\n",
      "Finish atmosphere\n",
      "Finish presto\n",
      "Finish retrofit\n",
      "Finish guava\n",
      "Finish jsoup\n",
      "Finish disconf\n",
      "Finish antlr4\n",
      "Finish mybatis-3\n",
      "Finish javaee7-samples\n",
      "Finish pinpoint\n",
      "Finish FizzBuzzEnterpriseEdition\n",
      "Finish vert.x\n",
      "Finish swagger-codegen\n",
      "Finish HikariCP\n",
      "Finish checkstyle\n",
      "Finish Bukkit\n",
      "Finish cucumber-jvm\n",
      "Finish spring-petclinic\n",
      "Finish druid\n",
      "Finish swagger-core\n",
      "Finish metrics\n",
      "Finish dubbo\n",
      "Finish aws-sdk-java\n",
      "Finish Activiti\n",
      "Finish spring-mvc-showcase\n",
      "Finish zxing\n",
      "Finish HanLP\n",
      "Finish libgdx\n",
      "Finish ansj_seg\n",
      "Finish okio\n",
      "Finish javapoet\n",
      "Finish CoreNLP\n",
      "Finish camel\n",
      "Finish openmrs-core\n",
      "Finish scribejava\n",
      "Finish webmagic\n",
      "Finish async-http-client\n",
      "Finish junit\n"
     ]
    }
   ],
   "source": [
    "with concurrent.futures.ThreadPoolExecutor(max_workers=16) as executor:\n",
    "    future_results = []\n",
    "    for project_info in projects.values():\n",
    "        future_results.append(executor.submit(getCommitsWithMaven, project_info))\n",
    "        #future_results.append(executor.submit(getCommitsWithMaven, projects['spring-petclinic']))\n",
    "        #break\n",
    "    for future in future_results:\n",
    "        try:\n",
    "            result = future.result()\n",
    "            print(\"Finish \"+result)\n",
    "        except Exception as e:\n",
    "            print(\"Error: \",e)"
   ]
  }
 ],
 "metadata": {
  "kernelspec": {
   "display_name": "Python 3 (ipykernel)",
   "language": "python",
   "name": "python3"
  },
  "language_info": {
   "codemirror_mode": {
    "name": "ipython",
    "version": 3
   },
   "file_extension": ".py",
   "mimetype": "text/x-python",
   "name": "python",
   "nbconvert_exporter": "python",
   "pygments_lexer": "ipython3",
   "version": "3.11.6"
  }
 },
 "nbformat": 4,
 "nbformat_minor": 5
}
