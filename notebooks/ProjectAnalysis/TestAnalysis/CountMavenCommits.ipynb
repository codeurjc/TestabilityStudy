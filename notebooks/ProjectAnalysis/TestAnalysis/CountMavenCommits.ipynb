{
 "cells": [
  {
   "cell_type": "code",
   "execution_count": 76,
   "id": "41db3654-d296-435b-ae69-c190fb31e682",
   "metadata": {},
   "outputs": [],
   "source": [
    "import os\n",
    "import json\n",
    "import csv\n",
    "import pandas as pd\n",
    "import sys\n",
    "import concurrent\n",
    "import matplotlib.pyplot as plt\n",
    "\n",
    "sys.path.append('../../../py/')\n",
    "from GitManager import GitManager\n",
    "\n",
    "root=\"/home/jovyan/work\"\n",
    "procesed_results_path=root+\"/notebooks/ProjectAnalysis/TestAnalysis/results/\""
   ]
  },
  {
   "cell_type": "code",
   "execution_count": 2,
   "id": "ada0b40b-2e19-4004-a82e-e1d668f7ccc1",
   "metadata": {},
   "outputs": [],
   "source": [
    "ignored_android_projects = [\n",
    "     'ActionBarSherlock',\n",
    "     'roboguice',\n",
    "     'android-Ultra-Pull-To-Refresh',\n",
    "     'ViewPagerIndicator',\n",
    "     'SlidingMenu',\n",
    "     'NineOldAndroids',\n",
    "     'ListViewAnimations',\n",
    "     'Android-PullToRefresh',\n",
    "     'ActiveAndroid',\n",
    "     'android-common',\n",
    "     'drag-sort-listview',\n",
    "]\n",
    "ignored_non_runnable_projects = [\n",
    "    \"guice\",\n",
    "    \"Essentials\",\n",
    "    \"neo4j\",\n",
    "    \"spring-cloud-microservice-example\",\n",
    "    \"canal\",\n",
    "    \"hive\",\n",
    "    \"spring-boot\",\n",
    "    \"YCSB\",\n",
    "    \"wildfly\",\n",
    "    \"gephi\",\n",
    "    \"deeplearning4j\",\n",
    "    \"DataX\",\n",
    "    \"netty\",\n",
    "    \"hbase\",\n",
    "    \"zheng\",\n",
    "    \"openhab\",\n",
    "    \"jstorm\",\n",
    "    \"clojure\",\n",
    "    \"learning-spark\",\n",
    "    \"Mycat-Server\" \n",
    "]\n",
    "ignored_projects = ignored_android_projects + ignored_non_runnable_projects"
   ]
  },
  {
   "cell_type": "code",
   "execution_count": 21,
   "id": "f23684af-7525-4f25-8dac-8960fdce3372",
   "metadata": {},
   "outputs": [],
   "source": [
    "path = root+\"/configFiles/ManySStub4JProjects/\"\n",
    "projects = {}\n",
    "for configFile in os.listdir(path):\n",
    "    with open(path+configFile) as f:\n",
    "        project_info = json.load(f)\n",
    "        project_name = project_info[\"project\"]\n",
    "        if os.path.isdir(procesed_results_path+project_name) and project_name not in ignored_projects:\n",
    "            projects[project_name] = project_info"
   ]
  },
  {
   "cell_type": "code",
   "execution_count": 4,
   "id": "ede36de7-e1cd-45e6-8f73-0898af9b0c24",
   "metadata": {},
   "outputs": [
    {
     "data": {
      "text/plain": [
       "dict_keys(['flink', 'elastic-job', 'alluxio', 'dex2jar', 'jedis', 'android-volley', 'storm', 'dropwizard', 'titan', 'jsonschema2pojo', 'graylog2-server', 'spark', 'spring-security-oauth', 'auto', 'closure-compiler', 'dagger', 'java-design-patterns', 'crawler4j', 'apache-druid', 'otto', 'springside4', 'jfinal', 'hadoop', 'okhttp', 'twitter4j', 'fastjson', 'DiskLruCache', 'nanohttpd', 'atmosphere', 'presto', 'retrofit', 'guava', 'jsoup', 'disconf', 'antlr4', 'mybatis-3', 'javaee7-samples', 'pinpoint', 'FizzBuzzEnterpriseEdition', 'vert.x', 'swagger-codegen', 'HikariCP', 'checkstyle', 'Bukkit', 'cucumber-jvm', 'spring-petclinic', 'druid', 'swagger-core', 'metrics', 'dubbo', 'aws-sdk-java', 'Activiti', 'spring-mvc-showcase', 'zxing', 'HanLP', 'libgdx', 'ansj_seg', 'okio', 'javapoet', 'CoreNLP', 'camel', 'openmrs-core', 'scribejava', 'webmagic', 'async-http-client', 'junit'])"
      ]
     },
     "execution_count": 4,
     "metadata": {},
     "output_type": "execute_result"
    }
   ],
   "source": [
    "projects.keys()"
   ]
  },
  {
   "cell_type": "code",
   "execution_count": 16,
   "id": "5a89ea75-19ac-41f9-bc0c-0720b0491688",
   "metadata": {},
   "outputs": [],
   "source": [
    "def getCommitsWithMaven(project):\n",
    "    project_path = root+\"/projects/\"+project['project']\n",
    "    gm = GitManager(project_path, project['last_commit'])\n",
    "    commits = gm.getAllCommits()\n",
    "    n_commits = len(commits)\n",
    "    n_commits_with_pom = 0\n",
    "    if os.path.isfile(procesed_results_path+project['project']+\"/build-system.csv\"):\n",
    "        return project['project']\n",
    "    with open(procesed_results_path+project['project']+\"/build-system.csv\", 'w') as f:\n",
    "        writer = csv.writer(f)\n",
    "        writer.writerow([\"commit_hash\", \"has_pom\"])\n",
    "        for c in commits:\n",
    "            commit_hash = c.split(\"|=|\")[0][1:]\n",
    "            gm.change_commit(commit_hash)\n",
    "            has_pom = os.path.isfile(project_path+\"/pom.xml\")\n",
    "            writer.writerow((commit_hash, has_pom))\n",
    "    return project['project']"
   ]
  },
  {
   "cell_type": "code",
   "execution_count": 20,
   "id": "84cb8be7-8de7-4dd8-b607-07a0811d0edc",
   "metadata": {},
   "outputs": [
    {
     "name": "stdout",
     "output_type": "stream",
     "text": [
      "Finish flink\n",
      "Finish elastic-job\n",
      "Finish alluxio\n",
      "Finish dex2jar\n",
      "Finish jedis\n",
      "Finish android-volley\n",
      "Finish storm\n",
      "Finish dropwizard\n",
      "Finish titan\n",
      "Finish jsonschema2pojo\n",
      "Finish graylog2-server\n",
      "Finish spark\n",
      "Finish spring-security-oauth\n",
      "Finish auto\n",
      "Finish closure-compiler\n",
      "Finish dagger\n",
      "Finish java-design-patterns\n",
      "Finish crawler4j\n",
      "Finish apache-druid\n",
      "Finish otto\n",
      "Finish springside4\n",
      "Finish jfinal\n",
      "Finish hadoop\n",
      "Finish okhttp\n",
      "Finish twitter4j\n",
      "Finish fastjson\n",
      "Finish DiskLruCache\n",
      "Finish nanohttpd\n",
      "Finish atmosphere\n",
      "Finish presto\n",
      "Finish retrofit\n",
      "Finish guava\n",
      "Finish jsoup\n",
      "Finish disconf\n",
      "Finish antlr4\n",
      "Finish mybatis-3\n",
      "Finish javaee7-samples\n",
      "Finish pinpoint\n",
      "Finish FizzBuzzEnterpriseEdition\n",
      "Finish vert.x\n",
      "Finish swagger-codegen\n",
      "Finish HikariCP\n",
      "Finish checkstyle\n",
      "Finish Bukkit\n",
      "Finish cucumber-jvm\n",
      "Finish spring-petclinic\n",
      "Finish druid\n",
      "Finish swagger-core\n",
      "Finish metrics\n",
      "Finish dubbo\n",
      "Finish aws-sdk-java\n",
      "Finish Activiti\n",
      "Finish spring-mvc-showcase\n",
      "Finish zxing\n",
      "Finish HanLP\n",
      "Finish libgdx\n",
      "Finish ansj_seg\n",
      "Finish okio\n",
      "Finish javapoet\n",
      "Finish CoreNLP\n",
      "Finish camel\n",
      "Finish openmrs-core\n",
      "Finish scribejava\n",
      "Finish webmagic\n",
      "Finish async-http-client\n",
      "Finish junit\n"
     ]
    }
   ],
   "source": [
    "with concurrent.futures.ThreadPoolExecutor(max_workers=16) as executor:\n",
    "    future_results = []\n",
    "    for project_info in projects.values():\n",
    "        future_results.append(executor.submit(getCommitsWithMaven, project_info))\n",
    "        #future_results.append(executor.submit(getCommitsWithMaven, projects['spring-petclinic']))\n",
    "        #break\n",
    "    for future in future_results:\n",
    "        try:\n",
    "            result = future.result()\n",
    "            print(\"Finish \"+result)\n",
    "        except Exception as e:\n",
    "            print(\"Error: \",e)"
   ]
  },
  {
   "cell_type": "code",
   "execution_count": 56,
   "id": "d0d789c2-1b58-457d-9d31-067a75b3301a",
   "metadata": {},
   "outputs": [],
   "source": [
    "results = []\n",
    "for project_info in projects.values():\n",
    "    df = pd.read_csv(procesed_results_path+project_info['project']+\"/build-system.csv\")\n",
    "    results.append([project_info['project'], len(df[df['has_pom']==True]), len(df), round(len(df[df['has_pom']==True])*100 / len(df), 2) ])\n",
    "results_df = pd.DataFrame(results, columns = ['project', 'has_pom', 'total_commits','%'])"
   ]
  },
  {
   "cell_type": "code",
   "execution_count": 62,
   "id": "705ebb05-cfea-48d7-8fc8-539f078a5881",
   "metadata": {},
   "outputs": [
    {
     "data": {
      "text/plain": [
       "88.78424242424242"
      ]
     },
     "execution_count": 62,
     "metadata": {},
     "output_type": "execute_result"
    }
   ],
   "source": [
    "results_df['%'].mean()"
   ]
  },
  {
   "cell_type": "code",
   "execution_count": 63,
   "id": "524f0de8-0198-467f-9828-a893aac32112",
   "metadata": {},
   "outputs": [
    {
     "data": {
      "text/plain": [
       "98.99000000000001"
      ]
     },
     "execution_count": 63,
     "metadata": {},
     "output_type": "execute_result"
    }
   ],
   "source": [
    "results_df['%'].median()"
   ]
  },
  {
   "cell_type": "code",
   "execution_count": 89,
   "id": "62541096-ba54-451e-94a1-3fe348138590",
   "metadata": {},
   "outputs": [
    {
     "data": {
      "image/png": "[encoded data removed]",
      "text/plain": [
       "<Figure size 640x480 with 1 Axes>"
      ]
     },
     "metadata": {},
     "output_type": "display_data"
    }
   ],
   "source": [
    "ax = results_df.boxplot(column='%')\n",
    "ax.set_xlabel(\"% of commits with pom.xml\")\n",
    "plt.savefig(\"latex_figures/boxplot-commits-with-pom.pdf\",bbox_inches='tight')\n",
    "plt.show()"
   ]
  },
  {
   "cell_type": "code",
   "execution_count": 57,
   "id": "679c6d6c-ef28-409e-957b-3ba35d6cf678",
   "metadata": {},
   "outputs": [
    {
     "name": "stdout",
     "output_type": "stream",
     "text": [
      "Projects with a % of maven commits greater that 90% 47\n",
      "Projects with a % of maven commits greater that 90% 19\n"
     ]
    }
   ],
   "source": [
    "print(\"Projects with a % of maven commits greater that 90%\", len(results_df[results_df['%'] >= 90]))\n",
    "print(\"Projects with a % of maven commits greater that 90%\", len(results_df[results_df['%'] < 90]))"
   ]
  },
  {
   "cell_type": "code",
   "execution_count": 58,
   "id": "60f7d4f5-41d5-4afb-a230-9152ccfc7ba3",
   "metadata": {},
   "outputs": [
    {
     "data": {
      "text/html": [
       "<div>\n",
       "<style scoped>\n",
       "    .dataframe tbody tr th:only-of-type {\n",
       "        vertical-align: middle;\n",
       "    }\n",
       "\n",
       "    .dataframe tbody tr th {\n",
       "        vertical-align: top;\n",
       "    }\n",
       "\n",
       "    .dataframe thead th {\n",
       "        text-align: right;\n",
       "    }\n",
       "</style>\n",
       "<table border=\"1\" class=\"dataframe\">\n",
       "  <thead>\n",
       "    <tr style=\"text-align: right;\">\n",
       "      <th></th>\n",
       "      <th>project</th>\n",
       "      <th>has_pom</th>\n",
       "      <th>total_commits</th>\n",
       "      <th>%</th>\n",
       "    </tr>\n",
       "  </thead>\n",
       "  <tbody>\n",
       "    <tr>\n",
       "      <th>5</th>\n",
       "      <td>android-volley</td>\n",
       "      <td>146</td>\n",
       "      <td>1932</td>\n",
       "      <td>7.56</td>\n",
       "    </tr>\n",
       "    <tr>\n",
       "      <th>6</th>\n",
       "      <td>storm</td>\n",
       "      <td>8381</td>\n",
       "      <td>10440</td>\n",
       "      <td>80.28</td>\n",
       "    </tr>\n",
       "    <tr>\n",
       "      <th>10</th>\n",
       "      <td>graylog2-server</td>\n",
       "      <td>13902</td>\n",
       "      <td>19180</td>\n",
       "      <td>72.48</td>\n",
       "    </tr>\n",
       "    <tr>\n",
       "      <th>13</th>\n",
       "      <td>auto</td>\n",
       "      <td>1082</td>\n",
       "      <td>1297</td>\n",
       "      <td>83.42</td>\n",
       "    </tr>\n",
       "    <tr>\n",
       "      <th>14</th>\n",
       "      <td>closure-compiler</td>\n",
       "      <td>12749</td>\n",
       "      <td>17016</td>\n",
       "      <td>74.92</td>\n",
       "    </tr>\n",
       "    <tr>\n",
       "      <th>23</th>\n",
       "      <td>okhttp</td>\n",
       "      <td>3628</td>\n",
       "      <td>4861</td>\n",
       "      <td>74.63</td>\n",
       "    </tr>\n",
       "    <tr>\n",
       "      <th>33</th>\n",
       "      <td>disconf</td>\n",
       "      <td>946</td>\n",
       "      <td>1158</td>\n",
       "      <td>81.69</td>\n",
       "    </tr>\n",
       "    <tr>\n",
       "      <th>34</th>\n",
       "      <td>antlr4</td>\n",
       "      <td>5127</td>\n",
       "      <td>8026</td>\n",
       "      <td>63.88</td>\n",
       "    </tr>\n",
       "    <tr>\n",
       "      <th>38</th>\n",
       "      <td>FizzBuzzEnterpriseEdition</td>\n",
       "      <td>162</td>\n",
       "      <td>184</td>\n",
       "      <td>88.04</td>\n",
       "    </tr>\n",
       "    <tr>\n",
       "      <th>42</th>\n",
       "      <td>checkstyle</td>\n",
       "      <td>8161</td>\n",
       "      <td>10340</td>\n",
       "      <td>78.93</td>\n",
       "    </tr>\n",
       "    <tr>\n",
       "      <th>48</th>\n",
       "      <td>metrics</td>\n",
       "      <td>2622</td>\n",
       "      <td>3018</td>\n",
       "      <td>86.88</td>\n",
       "    </tr>\n",
       "    <tr>\n",
       "      <th>53</th>\n",
       "      <td>zxing</td>\n",
       "      <td>1080</td>\n",
       "      <td>3584</td>\n",
       "      <td>30.13</td>\n",
       "    </tr>\n",
       "    <tr>\n",
       "      <th>54</th>\n",
       "      <td>HanLP</td>\n",
       "      <td>1193</td>\n",
       "      <td>1493</td>\n",
       "      <td>79.91</td>\n",
       "    </tr>\n",
       "    <tr>\n",
       "      <th>55</th>\n",
       "      <td>libgdx</td>\n",
       "      <td>8394</td>\n",
       "      <td>14695</td>\n",
       "      <td>57.12</td>\n",
       "    </tr>\n",
       "    <tr>\n",
       "      <th>56</th>\n",
       "      <td>ansj_seg</td>\n",
       "      <td>571</td>\n",
       "      <td>703</td>\n",
       "      <td>81.22</td>\n",
       "    </tr>\n",
       "    <tr>\n",
       "      <th>57</th>\n",
       "      <td>okio</td>\n",
       "      <td>489</td>\n",
       "      <td>1195</td>\n",
       "      <td>40.92</td>\n",
       "    </tr>\n",
       "    <tr>\n",
       "      <th>59</th>\n",
       "      <td>CoreNLP</td>\n",
       "      <td>2978</td>\n",
       "      <td>16467</td>\n",
       "      <td>18.08</td>\n",
       "    </tr>\n",
       "    <tr>\n",
       "      <th>61</th>\n",
       "      <td>openmrs-core</td>\n",
       "      <td>8645</td>\n",
       "      <td>11442</td>\n",
       "      <td>75.55</td>\n",
       "    </tr>\n",
       "    <tr>\n",
       "      <th>65</th>\n",
       "      <td>junit</td>\n",
       "      <td>1188</td>\n",
       "      <td>2475</td>\n",
       "      <td>48.00</td>\n",
       "    </tr>\n",
       "  </tbody>\n",
       "</table>\n",
       "</div>"
      ],
      "text/plain": [
       "                      project  has_pom  total_commits      %\n",
       "5              android-volley      146           1932   7.56\n",
       "6                       storm     8381          10440  80.28\n",
       "10            graylog2-server    13902          19180  72.48\n",
       "13                       auto     1082           1297  83.42\n",
       "14           closure-compiler    12749          17016  74.92\n",
       "23                     okhttp     3628           4861  74.63\n",
       "33                    disconf      946           1158  81.69\n",
       "34                     antlr4     5127           8026  63.88\n",
       "38  FizzBuzzEnterpriseEdition      162            184  88.04\n",
       "42                 checkstyle     8161          10340  78.93\n",
       "48                    metrics     2622           3018  86.88\n",
       "53                      zxing     1080           3584  30.13\n",
       "54                      HanLP     1193           1493  79.91\n",
       "55                     libgdx     8394          14695  57.12\n",
       "56                   ansj_seg      571            703  81.22\n",
       "57                       okio      489           1195  40.92\n",
       "59                    CoreNLP     2978          16467  18.08\n",
       "61               openmrs-core     8645          11442  75.55\n",
       "65                      junit     1188           2475  48.00"
      ]
     },
     "execution_count": 58,
     "metadata": {},
     "output_type": "execute_result"
    }
   ],
   "source": [
    "results_df[results_df['%'] < 90]"
   ]
  },
  {
   "cell_type": "markdown",
   "id": "c8fae824-c8ca-4855-880a-b41308259834",
   "metadata": {},
   "source": [
    "### Notes\n",
    "\n",
    "#### Change from Ant/Gradle to Maven\n",
    "- `android-volley` -> Change from Ant/Gradle to Maven\n",
    "- `antlr4` -> Change from Ant to Maven\n",
    "- `CoreNLP` -> Change from Ant/Gradle to Maven\n",
    "- `openmrs-core`-> Change from Ant to Maven\n",
    "- `junit` -> Change from Ant to Maven\n",
    "- `libgdx` -> Change from Ant to Maven\n",
    "- `ansj_seg`-> Change from Ant to Maven\n",
    "- `checkstyle`-> Change from Ant to Maven\n",
    "- `zxing` -> Change from Ant to Maven\n",
    "  \n",
    "#### Change from Maven to Gradle\n",
    "- `okhttp`-> Change from Maven to Gradle\n",
    "\n",
    "#### Introduce Maven (no previous build system)\n",
    "- `storm`->  Introduce Maven (no previous build system)\n",
    "- `graylog2-server`-> Introduce Maven (no previous build system)\n",
    "- `metrics`-> Introduce Maven (no previous build system)\n",
    "- `FizzBuzzEnterpriseEdition`-> Introduce Maven (no previous build system)\n",
    "\n",
    "#### Other cases \n",
    "- `auto`-> Change from pom.xml to build-pom.xml. Now project consist on 4 individual Maven projects\n",
    "- `closure-compiler`-> Change from build.xml to pom.xml and then change to Bazel (another build tool)\n",
    "- `disconf`-> Use pom.xml, then use 6 different folders (with pom.xml) and then was re-estructured to have a common pom.xml\n",
    "- `HanLP`-> Migrate from Java to Python\n",
    "- `okio` -> pom.xml was located inside 'okio/' folder (not in root folder) - Nearly 99%\n",
    "\n"
   ]
  }
 ],
 "metadata": {
  "kernelspec": {
   "display_name": "Python 3 (ipykernel)",
   "language": "python",
   "name": "python3"
  },
  "language_info": {
   "codemirror_mode": {
    "name": "ipython",
    "version": 3
   },
   "file_extension": ".py",
   "mimetype": "text/x-python",
   "name": "python",
   "nbconvert_exporter": "python",
   "pygments_lexer": "ipython3",
   "version": "3.11.6"
  }
 },
 "nbformat": 4,
 "nbformat_minor": 5
}
